{
 "cells": [
  {
   "cell_type": "code",
   "execution_count": 1,
   "metadata": {},
   "outputs": [],
   "source": [
    "import cv2 \n",
    "import numpy as np\n",
    "import time"
   ]
  },
  {
   "cell_type": "code",
   "execution_count": 2,
   "metadata": {},
   "outputs": [],
   "source": [
    "PATH='coco.names'\n",
    "classes=[]\n",
    "image_width=416\n",
    "threshold=0.6 # confidence threshold\n",
    "overlap_thresh=0.3 ## non max suppresion threshold"
   ]
  },
  {
   "cell_type": "code",
   "execution_count": 3,
   "metadata": {},
   "outputs": [],
   "source": [
    "# Extracting class names from file\n",
    "with open(PATH,'rt') as f:\n",
    "    classes=f.read().rstrip('\\n').split('\\n');\n",
    "\n",
    "model_config='yolov4.cfg'\n",
    "model_weights='yolov4-tiny.weights'\n",
    "\n",
    "# Setting up the yolo model\n",
    "net=cv2.dnn.readNetFromDarknet(model_config,model_weights)\n",
    "net.setPreferableBackend(cv2.dnn.DNN_BACKEND_CUDA)\n",
    "net.setPreferableTarget(cv2.dnn.DNN_TARGET_CUDA)"
   ]
  },
  {
   "cell_type": "code",
   "execution_count": 4,
   "metadata": {},
   "outputs": [],
   "source": [
    "def findObject(output,img):\n",
    "    d=dict() # Dictionary used to count the number of certain objects in the current frame\n",
    "    height,width,channel = img.shape\n",
    "    bbox=[]\n",
    "    classId_list=[]\n",
    "    confidence_list=[]\n",
    "    \n",
    "    for out in output: # Go through each output\n",
    "        for det in out: # check confidence value fro each class\n",
    "            conf_score=det[5:]\n",
    "            classId=np.argmax(conf_score) # store the max confidence value class\n",
    "            confidence=conf_score[classId]\n",
    "            \n",
    "            if confidence>threshold: \n",
    "                # det[0],det[1],det[2],det[3] are returned as percentages so we need to convert them by multiplying image width \n",
    "                # and height\n",
    "                w,h=int(det[2]*width),int(det[3]*height) \n",
    "                x,y= int((det[0]*width)-w/2),int((det[1]*height)-h/2)\n",
    "                \n",
    "                bbox.append([x,y,w,h])\n",
    "                classId_list.append(classId)\n",
    "                confidence_list.append(float(confidence))\n",
    "                \n",
    "    index=cv2.dnn.NMSBoxes(bbox,confidence_list,threshold,overlap_thresh) #applying non max suppresion\n",
    "    \n",
    "    # Display each valid prediction and increase count value\n",
    "    for i in index:\n",
    "        i=i[0]\n",
    "        box=bbox[i]\n",
    "        x,y,w,h=box[0],box[1],box[2],box[3]\n",
    "        cv2.rectangle(img, (x, y), (x+w,y+h), (255, 255 , 0), 5)\n",
    "        cv2.putText(img,f'{classes[classId_list[i]].upper()} {int(confidence_list[i]*100)}%',\n",
    "                  (x, y-10), cv2.FONT_HERSHEY_SIMPLEX, 0.6, (255, 0, 255), 2)\n",
    "        d[classes[classId_list[i]]]=d.get(classes[classId_list[i]],0)+1\n",
    "    \n",
    "    \n",
    "    car_cnt=d.get(classes[2],0)\n",
    "    truck_cnt=d.get(classes[5],0)\n",
    "    bus_cnt=d.get(classes[7],0)\n",
    "    \n",
    "    cv2.putText(img,\"Car count:\"+str(car_cnt),(0,20),cv2.FONT_HERSHEY_SIMPLEX, 0.6, (255, 0, 255), 2)\n",
    "    cv2.putText(img,\"Truck count:\"+str(truck_cnt),(0,45),cv2.FONT_HERSHEY_SIMPLEX, 0.6, (255, 0, 255), 2)\n",
    "    cv2.putText(img,\"Bus count:\"+str(bus_cnt),(0,70),cv2.FONT_HERSHEY_SIMPLEX, 0.6, (255, 0, 255), 2)\n",
    "    "
   ]
  },
  {
   "cell_type": "code",
   "execution_count": 6,
   "metadata": {
    "scrolled": true
   },
   "outputs": [],
   "source": [
    "vid=cv2.VideoCapture('traffic.mkv')\n",
    "# frame time used to calculate fps\n",
    "prev_frame_time = 0\n",
    "new_frame_time = 0\n",
    "while vid.isOpened():\n",
    "    success,img =vid.read()\n",
    "    new_frame_time = time.time()\n",
    "    # blob is a 4d numpy array with dimension (images, channels, width, height),normalization is done by dividing by 255. Mean subtraction is not performed.\n",
    "    blob=cv2.dnn.blobFromImage(img,1/255,(image_width,image_width),[0,0,0],1,crop=False) \n",
    "    \n",
    "    # setting input of the network\n",
    "    net.setInput(blob)\n",
    "    \n",
    "    layerNames=net.getLayerNames()\n",
    "    \n",
    "    # extracting names of the output layers. yolov4 has two ouput layers\n",
    "    outputNames=[layerNames[i[0]-1] for i in net.getUnconnectedOutLayers()]\n",
    "    \n",
    "    # the first output has dimension (507,85) and the second has (2028,85). The first value indicates the number\n",
    "    # of bounding boxes found. The second value denotes the 80 classes and the remaining 5 denotes the bounding box and confidence value \n",
    "    output=net.forward(outputNames)\n",
    "    \n",
    "    # findObject function draws the bounding box,counts the number of objects in a frame and confidence value of each prediction\n",
    "    findObject(output,img)\n",
    "    \n",
    "    fps = 1/(new_frame_time-prev_frame_time)\n",
    "    prev_frame_time = new_frame_time\n",
    " \n",
    "    fps = int(fps)\n",
    "\n",
    "    fps = str(fps)\n",
    " \n",
    "    # putting the FPS count on the frame\n",
    "    cv2.putText(img, \"FPS:\"+fps, (0,95),cv2.FONT_HERSHEY_SIMPLEX, 0.6, (255, 0, 255), 2)\n",
    " \n",
    "    cv2.imshow('Image',img)\n",
    "    if cv2.waitKey(1)==ord('q'):\n",
    "        break;\n",
    "    \n",
    "vid.release()\n",
    "cv2.destroyAllWindows()"
   ]
  },
  {
   "cell_type": "code",
   "execution_count": 63,
   "metadata": {},
   "outputs": [],
   "source": []
  },
  {
   "cell_type": "code",
   "execution_count": null,
   "metadata": {},
   "outputs": [],
   "source": []
  }
 ],
 "metadata": {
  "kernelspec": {
   "display_name": "Python 3",
   "language": "python",
   "name": "python3"
  },
  "language_info": {
   "codemirror_mode": {
    "name": "ipython",
    "version": 3
   },
   "file_extension": ".py",
   "mimetype": "text/x-python",
   "name": "python",
   "nbconvert_exporter": "python",
   "pygments_lexer": "ipython3",
   "version": "3.6.10"
  }
 },
 "nbformat": 4,
 "nbformat_minor": 4
}
